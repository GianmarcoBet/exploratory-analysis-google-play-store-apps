{
 "cells": [
  {
   "cell_type": "markdown",
   "metadata": {},
   "source": [
    "**Exploratory analysis of Google Play Store app data**\n",
    "\n",
    "**Synopsis**: In this notebook, we perform a preliminary exploratory analysis of data related to ~10k apps in the Google Play Store.\n",
    "\n",
    "**Data source**: The data was obtained from the Kaggle database https://www.kaggle.com/lava18/google-play-store-apps."
   ]
  },
  {
   "cell_type": "code",
   "execution_count": 19,
   "metadata": {},
   "outputs": [
    {
     "name": "stdout",
     "output_type": "stream",
     "text": [
      "['App', 'Category', 'Rating', 'Reviews', 'Size', 'Installs', 'Type', 'Price', 'Content Rating', 'Genres', 'Last Updated', 'Current Ver', 'Android Ver']\n"
     ]
    },
    {
     "data": {
      "text/plain": [
       "[['Photo Editor & Candy Camera & Grid & ScrapBook',\n",
       "  'ART_AND_DESIGN',\n",
       "  '4.1',\n",
       "  '159',\n",
       "  '19M',\n",
       "  '10,000+',\n",
       "  'Free',\n",
       "  '0',\n",
       "  'Everyone',\n",
       "  'Art & Design',\n",
       "  'January 7, 2018',\n",
       "  '1.0.0',\n",
       "  '4.0.3 and up'],\n",
       " ['Coloring book moana',\n",
       "  'ART_AND_DESIGN',\n",
       "  '3.9',\n",
       "  '967',\n",
       "  '14M',\n",
       "  '500,000+',\n",
       "  'Free',\n",
       "  '0',\n",
       "  'Everyone',\n",
       "  'Art & Design;Pretend Play',\n",
       "  'January 15, 2018',\n",
       "  '2.0.0',\n",
       "  '4.0.3 and up'],\n",
       " ['U Launcher Lite – FREE Live Cool Themes, Hide Apps',\n",
       "  'ART_AND_DESIGN',\n",
       "  '4.7',\n",
       "  '87510',\n",
       "  '8.7M',\n",
       "  '5,000,000+',\n",
       "  'Free',\n",
       "  '0',\n",
       "  'Everyone',\n",
       "  'Art & Design',\n",
       "  'August 1, 2018',\n",
       "  '1.2.4',\n",
       "  '4.0.3 and up']]"
      ]
     },
     "execution_count": 19,
     "metadata": {},
     "output_type": "execute_result"
    }
   ],
   "source": [
    "# Packages and loading data\n",
    "import numpy as np\n",
    "#import pandas as pd # Not supported by Jupyter?\n",
    "import csv\n",
    "\n",
    "f = open(\"googleplaystore.csv\", \"r\")\n",
    "app_data = list(csv.reader(f))\n",
    "\n",
    "headers = app_data[0]\n",
    "app_data = app_data[1:]\n",
    "\n",
    "print(headers)\n",
    "app_data[0:3]"
   ]
  },
  {
   "cell_type": "markdown",
   "metadata": {},
   "source": [
    "First, let us check which are the unique categories."
   ]
  },
  {
   "cell_type": "code",
   "execution_count": 26,
   "metadata": {},
   "outputs": [
    {
     "data": {
      "text/plain": [
       "{'1.9',\n",
       " 'ART_AND_DESIGN',\n",
       " 'AUTO_AND_VEHICLES',\n",
       " 'BEAUTY',\n",
       " 'BOOKS_AND_REFERENCE',\n",
       " 'BUSINESS',\n",
       " 'COMICS',\n",
       " 'COMMUNICATION',\n",
       " 'DATING',\n",
       " 'EDUCATION',\n",
       " 'ENTERTAINMENT',\n",
       " 'EVENTS',\n",
       " 'FAMILY',\n",
       " 'FINANCE',\n",
       " 'FOOD_AND_DRINK',\n",
       " 'GAME',\n",
       " 'HEALTH_AND_FITNESS',\n",
       " 'HOUSE_AND_HOME',\n",
       " 'LIBRARIES_AND_DEMO',\n",
       " 'LIFESTYLE',\n",
       " 'MAPS_AND_NAVIGATION',\n",
       " 'MEDICAL',\n",
       " 'NEWS_AND_MAGAZINES',\n",
       " 'PARENTING',\n",
       " 'PERSONALIZATION',\n",
       " 'PHOTOGRAPHY',\n",
       " 'PRODUCTIVITY',\n",
       " 'SHOPPING',\n",
       " 'SOCIAL',\n",
       " 'SPORTS',\n",
       " 'TOOLS',\n",
       " 'TRAVEL_AND_LOCAL',\n",
       " 'VIDEO_PLAYERS',\n",
       " 'WEATHER'}"
      ]
     },
     "execution_count": 26,
     "metadata": {},
     "output_type": "execute_result"
    }
   ],
   "source": [
    "def extract_column(index, db):\n",
    "    \n",
    "    column = [row[index] for row in db]\n",
    "    \n",
    "    return column\n",
    "\n",
    "categories = extract_column(1, app_data)\n",
    "categories_set = set(categories)\n",
    "categories_set"
   ]
  },
  {
   "cell_type": "markdown",
   "metadata": {},
   "source": [
    "It is not clear what the category '1.9' represents, let us investigate further."
   ]
  },
  {
   "cell_type": "code",
   "execution_count": 63,
   "metadata": {},
   "outputs": [
    {
     "name": "stdout",
     "output_type": "stream",
     "text": [
      "The row is:\n",
      " [['Life Made WI-Fi Touchscreen Photo Frame', '1.9', '19', '3.0M', '1,000+', 'Free', '0', 'Everyone', '', 'February 11, 2018', '1.0.19', '4.0 and up']]\n",
      "At index: 10472\n",
      "The row contains 12 entries.\n",
      "A normal row contains 13 entries.\n"
     ]
    }
   ],
   "source": [
    "category_1_9 = []\n",
    "\n",
    "for index, row in enumerate(app_data):\n",
    "    if row[1] == \"1.9\":\n",
    "        category_1_9.append(row)\n",
    "        index_1_9 = index\n",
    "        \n",
    "print(\"The row is:\\n\",category_1_9) \n",
    "print(\"At index:\", index_1_9) \n",
    "print(\"The row contains %1.f entries.\" % len(category_1_9[0]))\n",
    "print(\"A normal row contains %1.f entries.\" % len(headers))\n",
    "\n",
    "# The category entry is missing, let us add it\n",
    "\n",
    "#for index, row in enumerate(app_data):\n",
    "#    if row[1] == \"1.9\":\n",
    "        "
   ]
  },
  {
   "cell_type": "code",
   "execution_count": null,
   "metadata": {},
   "outputs": [],
   "source": []
  }
 ],
 "metadata": {
  "kernelspec": {
   "display_name": "Python 3",
   "language": "python",
   "name": "python3"
  },
  "language_info": {
   "codemirror_mode": {
    "name": "ipython",
    "version": 3
   },
   "file_extension": ".py",
   "mimetype": "text/x-python",
   "name": "python",
   "nbconvert_exporter": "python",
   "pygments_lexer": "ipython3",
   "version": "3.7.0"
  }
 },
 "nbformat": 4,
 "nbformat_minor": 2
}
